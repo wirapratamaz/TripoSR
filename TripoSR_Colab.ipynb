# Install required dependencies
%cd /content

# Clone the repository
!git clone https://github.com/VAST-AI-Research/TripoSR.git
%cd /content/TripoSR-hf

# Install basic dependencies
!pip install -q trimesh omegaconf einops rembg gradio

# Install torchmcubes
!pip install torchmcubes
!pip install -q https://github.com/camenduru/wheels/releases/download/colab/torchmcubes-0.1.0-cp310-cp310-linux_x86_64.whl

# Clone and install torchmcubes from source
!git clone https://github.com/torchmcubes/torchmcubes.git
%cd torchmcubes
!pip install -r requirements.txt
!python setup.py install

# Clean up and reclone the repository
!rm -rf /content/TripoSR-hf
%cd /content
!git clone -b dev https://github.com/camenduru/TripoSR-hf
%cd /content/TripoSR-hf

# Install compatible versions of required packages
!pip install huggingface-hub==0.26.0
!pip install transformers==4.41.0
!pip install peft==0.14.0
!pip install sentence-transformers==2.2.2
!pip install accelerate==0.20.3
!pip install diffusers==0.14.0

# Install additional dependencies
!pip install -q trimesh omegaconf einops rembg gradio
!pip install -q https://github.com/camenduru/wheels/releases/download/colab/torchmcubes-0.1.0-cp310-cp310-linux_x86_64.whl
!pip install onnxruntime

# Upgrade gradio
!yes | pip uninstall gradio -q
!pip install --upgrade gradio

# Install final dependencies
!pip install -q aiofiles fastapi pandas orjson typing-extensions huggingface-hub

# Run the Gradio app
%cd /content/TripoSR-hf
!python app.py